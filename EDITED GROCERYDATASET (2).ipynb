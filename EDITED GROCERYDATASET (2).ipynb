{
 "cells": [
  {
   "cell_type": "markdown",
   "id": "f97a0f65",
   "metadata": {},
   "source": [
    "##IMPORTING LIBRARIES"
   ]
  },
  {
   "cell_type": "code",
   "execution_count": 2,
   "id": "a0f24639",
   "metadata": {},
   "outputs": [],
   "source": [
    "import pandas as pd\n",
    "import numpy as np\n",
    "import re"
   ]
  },
  {
   "cell_type": "code",
   "execution_count": 4,
   "id": "e3fc4ff5",
   "metadata": {},
   "outputs": [
    {
     "data": {
      "text/html": [
       "<div>\n",
       "<style scoped>\n",
       "    .dataframe tbody tr th:only-of-type {\n",
       "        vertical-align: middle;\n",
       "    }\n",
       "\n",
       "    .dataframe tbody tr th {\n",
       "        vertical-align: top;\n",
       "    }\n",
       "\n",
       "    .dataframe thead th {\n",
       "        text-align: right;\n",
       "    }\n",
       "</style>\n",
       "<table border=\"1\" class=\"dataframe\">\n",
       "  <thead>\n",
       "    <tr style=\"text-align: right;\">\n",
       "      <th></th>\n",
       "      <th>Sub Category</th>\n",
       "      <th>Price</th>\n",
       "      <th>Discount</th>\n",
       "      <th>Rating</th>\n",
       "      <th>Title</th>\n",
       "      <th>Currency</th>\n",
       "      <th>Feature</th>\n",
       "      <th>Product Description</th>\n",
       "    </tr>\n",
       "  </thead>\n",
       "  <tbody>\n",
       "    <tr>\n",
       "      <th>0</th>\n",
       "      <td>Bakery &amp; Desserts</td>\n",
       "      <td>$56.99</td>\n",
       "      <td>No Discount</td>\n",
       "      <td>Rated 4.3 out of 5 stars based on 265 reviews.</td>\n",
       "      <td>David’s Cookies Mile High Peanut Butter Cake, ...</td>\n",
       "      <td>$</td>\n",
       "      <td>\"10\"\" Peanut Butter Cake\\nCertified Kosher OU-...</td>\n",
       "      <td>A cake the dessert epicure will die for!Our To...</td>\n",
       "    </tr>\n",
       "    <tr>\n",
       "      <th>1</th>\n",
       "      <td>Bakery &amp; Desserts</td>\n",
       "      <td>$159.99</td>\n",
       "      <td>No Discount</td>\n",
       "      <td>Rated 5 out of 5 stars based on 1 reviews.</td>\n",
       "      <td>The Cake Bake Shop 8\" Round Carrot Cake (16-22...</td>\n",
       "      <td>$</td>\n",
       "      <td>Spiced Carrot Cake with Cream Cheese Frosting ...</td>\n",
       "      <td>Due to the perishable nature of this item, ord...</td>\n",
       "    </tr>\n",
       "    <tr>\n",
       "      <th>2</th>\n",
       "      <td>Bakery &amp; Desserts</td>\n",
       "      <td>$44.99</td>\n",
       "      <td>No Discount</td>\n",
       "      <td>Rated 4.1 out of 5 stars based on 441 reviews.</td>\n",
       "      <td>St Michel Madeleine, Classic French Sponge Cak...</td>\n",
       "      <td>$</td>\n",
       "      <td>100 count\\nIndividually wrapped\\nMade in and I...</td>\n",
       "      <td>Moist and buttery sponge cakes with the tradit...</td>\n",
       "    </tr>\n",
       "    <tr>\n",
       "      <th>3</th>\n",
       "      <td>Bakery &amp; Desserts</td>\n",
       "      <td>$39.99</td>\n",
       "      <td>No Discount</td>\n",
       "      <td>Rated 4.7 out of 5 stars based on 9459 reviews.</td>\n",
       "      <td>David's Cookies Butter Pecan Meltaways 32 oz, ...</td>\n",
       "      <td>$</td>\n",
       "      <td>Butter Pecan Meltaways\\n32 oz 2-Pack\\nNo Prese...</td>\n",
       "      <td>These delectable butter pecan meltaways are th...</td>\n",
       "    </tr>\n",
       "    <tr>\n",
       "      <th>4</th>\n",
       "      <td>Bakery &amp; Desserts</td>\n",
       "      <td>$59.99</td>\n",
       "      <td>No Discount</td>\n",
       "      <td>Rated 4.5 out of 5 stars based on 758 reviews.</td>\n",
       "      <td>David’s Cookies Premier Chocolate Cake, 7.2 lb...</td>\n",
       "      <td>$</td>\n",
       "      <td>\"10\" Four Layer Chocolate Cake\\nCertified Kosh...</td>\n",
       "      <td>A cake the dessert epicure will die for!To the...</td>\n",
       "    </tr>\n",
       "  </tbody>\n",
       "</table>\n",
       "</div>"
      ],
      "text/plain": [
       "        Sub Category     Price     Discount  \\\n",
       "0  Bakery & Desserts   $56.99   No Discount   \n",
       "1  Bakery & Desserts  $159.99   No Discount   \n",
       "2  Bakery & Desserts   $44.99   No Discount   \n",
       "3  Bakery & Desserts   $39.99   No Discount   \n",
       "4  Bakery & Desserts   $59.99   No Discount   \n",
       "\n",
       "                                            Rating  \\\n",
       "0   Rated 4.3 out of 5 stars based on 265 reviews.   \n",
       "1       Rated 5 out of 5 stars based on 1 reviews.   \n",
       "2   Rated 4.1 out of 5 stars based on 441 reviews.   \n",
       "3  Rated 4.7 out of 5 stars based on 9459 reviews.   \n",
       "4   Rated 4.5 out of 5 stars based on 758 reviews.   \n",
       "\n",
       "                                               Title Currency  \\\n",
       "0  David’s Cookies Mile High Peanut Butter Cake, ...        $   \n",
       "1  The Cake Bake Shop 8\" Round Carrot Cake (16-22...        $   \n",
       "2  St Michel Madeleine, Classic French Sponge Cak...        $   \n",
       "3  David's Cookies Butter Pecan Meltaways 32 oz, ...        $   \n",
       "4  David’s Cookies Premier Chocolate Cake, 7.2 lb...        $   \n",
       "\n",
       "                                             Feature  \\\n",
       "0  \"10\"\" Peanut Butter Cake\\nCertified Kosher OU-...   \n",
       "1  Spiced Carrot Cake with Cream Cheese Frosting ...   \n",
       "2  100 count\\nIndividually wrapped\\nMade in and I...   \n",
       "3  Butter Pecan Meltaways\\n32 oz 2-Pack\\nNo Prese...   \n",
       "4  \"10\" Four Layer Chocolate Cake\\nCertified Kosh...   \n",
       "\n",
       "                                 Product Description  \n",
       "0  A cake the dessert epicure will die for!Our To...  \n",
       "1  Due to the perishable nature of this item, ord...  \n",
       "2  Moist and buttery sponge cakes with the tradit...  \n",
       "3  These delectable butter pecan meltaways are th...  \n",
       "4  A cake the dessert epicure will die for!To the...  "
      ]
     },
     "execution_count": 4,
     "metadata": {},
     "output_type": "execute_result"
    }
   ],
   "source": [
    "#read the dataset\n",
    "df=pd.read_csv('GroceryDataset.csv')\n",
    "df.head()"
   ]
  },
  {
   "cell_type": "code",
   "execution_count": 13,
   "id": "1daaef1e",
   "metadata": {},
   "outputs": [
    {
     "data": {
      "text/html": [
       "<div>\n",
       "<style scoped>\n",
       "    .dataframe tbody tr th:only-of-type {\n",
       "        vertical-align: middle;\n",
       "    }\n",
       "\n",
       "    .dataframe tbody tr th {\n",
       "        vertical-align: top;\n",
       "    }\n",
       "\n",
       "    .dataframe thead th {\n",
       "        text-align: right;\n",
       "    }\n",
       "</style>\n",
       "<table border=\"1\" class=\"dataframe\">\n",
       "  <thead>\n",
       "    <tr style=\"text-align: right;\">\n",
       "      <th></th>\n",
       "      <th>Sub Category</th>\n",
       "      <th>Price</th>\n",
       "      <th>Discount</th>\n",
       "      <th>Rating</th>\n",
       "      <th>Title</th>\n",
       "      <th>Currency</th>\n",
       "      <th>Feature</th>\n",
       "      <th>Product Description</th>\n",
       "      <th>Review</th>\n",
       "    </tr>\n",
       "  </thead>\n",
       "  <tbody>\n",
       "    <tr>\n",
       "      <th>0</th>\n",
       "      <td>Bakery &amp; Desserts</td>\n",
       "      <td>$56.99</td>\n",
       "      <td>No Discount</td>\n",
       "      <td>Rated 4.3 out of 5 stars based on 265 reviews.</td>\n",
       "      <td>David’s Cookies Mile High Peanut Butter Cake, ...</td>\n",
       "      <td>$</td>\n",
       "      <td>\"10\"\" Peanut Butter Cake\\nCertified Kosher OU-...</td>\n",
       "      <td>A cake the dessert epicure will die for!Our To...</td>\n",
       "      <td>265</td>\n",
       "    </tr>\n",
       "    <tr>\n",
       "      <th>1</th>\n",
       "      <td>Bakery &amp; Desserts</td>\n",
       "      <td>$159.99</td>\n",
       "      <td>No Discount</td>\n",
       "      <td>Rated 5 out of 5 stars based on 1 reviews.</td>\n",
       "      <td>The Cake Bake Shop 8\" Round Carrot Cake (16-22...</td>\n",
       "      <td>$</td>\n",
       "      <td>Spiced Carrot Cake with Cream Cheese Frosting ...</td>\n",
       "      <td>Due to the perishable nature of this item, ord...</td>\n",
       "      <td>NaN</td>\n",
       "    </tr>\n",
       "    <tr>\n",
       "      <th>2</th>\n",
       "      <td>Bakery &amp; Desserts</td>\n",
       "      <td>$44.99</td>\n",
       "      <td>No Discount</td>\n",
       "      <td>Rated 4.1 out of 5 stars based on 441 reviews.</td>\n",
       "      <td>St Michel Madeleine, Classic French Sponge Cak...</td>\n",
       "      <td>$</td>\n",
       "      <td>100 count\\nIndividually wrapped\\nMade in and I...</td>\n",
       "      <td>Moist and buttery sponge cakes with the tradit...</td>\n",
       "      <td>441</td>\n",
       "    </tr>\n",
       "    <tr>\n",
       "      <th>3</th>\n",
       "      <td>Bakery &amp; Desserts</td>\n",
       "      <td>$39.99</td>\n",
       "      <td>No Discount</td>\n",
       "      <td>Rated 4.7 out of 5 stars based on 9459 reviews.</td>\n",
       "      <td>David's Cookies Butter Pecan Meltaways 32 oz, ...</td>\n",
       "      <td>$</td>\n",
       "      <td>Butter Pecan Meltaways\\n32 oz 2-Pack\\nNo Prese...</td>\n",
       "      <td>These delectable butter pecan meltaways are th...</td>\n",
       "      <td>945</td>\n",
       "    </tr>\n",
       "    <tr>\n",
       "      <th>4</th>\n",
       "      <td>Bakery &amp; Desserts</td>\n",
       "      <td>$59.99</td>\n",
       "      <td>No Discount</td>\n",
       "      <td>Rated 4.5 out of 5 stars based on 758 reviews.</td>\n",
       "      <td>David’s Cookies Premier Chocolate Cake, 7.2 lb...</td>\n",
       "      <td>$</td>\n",
       "      <td>\"10\" Four Layer Chocolate Cake\\nCertified Kosh...</td>\n",
       "      <td>A cake the dessert epicure will die for!To the...</td>\n",
       "      <td>758</td>\n",
       "    </tr>\n",
       "  </tbody>\n",
       "</table>\n",
       "</div>"
      ],
      "text/plain": [
       "        Sub Category     Price     Discount  \\\n",
       "0  Bakery & Desserts   $56.99   No Discount   \n",
       "1  Bakery & Desserts  $159.99   No Discount   \n",
       "2  Bakery & Desserts   $44.99   No Discount   \n",
       "3  Bakery & Desserts   $39.99   No Discount   \n",
       "4  Bakery & Desserts   $59.99   No Discount   \n",
       "\n",
       "                                            Rating  \\\n",
       "0   Rated 4.3 out of 5 stars based on 265 reviews.   \n",
       "1       Rated 5 out of 5 stars based on 1 reviews.   \n",
       "2   Rated 4.1 out of 5 stars based on 441 reviews.   \n",
       "3  Rated 4.7 out of 5 stars based on 9459 reviews.   \n",
       "4   Rated 4.5 out of 5 stars based on 758 reviews.   \n",
       "\n",
       "                                               Title Currency  \\\n",
       "0  David’s Cookies Mile High Peanut Butter Cake, ...        $   \n",
       "1  The Cake Bake Shop 8\" Round Carrot Cake (16-22...        $   \n",
       "2  St Michel Madeleine, Classic French Sponge Cak...        $   \n",
       "3  David's Cookies Butter Pecan Meltaways 32 oz, ...        $   \n",
       "4  David’s Cookies Premier Chocolate Cake, 7.2 lb...        $   \n",
       "\n",
       "                                             Feature  \\\n",
       "0  \"10\"\" Peanut Butter Cake\\nCertified Kosher OU-...   \n",
       "1  Spiced Carrot Cake with Cream Cheese Frosting ...   \n",
       "2  100 count\\nIndividually wrapped\\nMade in and I...   \n",
       "3  Butter Pecan Meltaways\\n32 oz 2-Pack\\nNo Prese...   \n",
       "4  \"10\" Four Layer Chocolate Cake\\nCertified Kosh...   \n",
       "\n",
       "                                 Product Description Review  \n",
       "0  A cake the dessert epicure will die for!Our To...    265  \n",
       "1  Due to the perishable nature of this item, ord...    NaN  \n",
       "2  Moist and buttery sponge cakes with the tradit...    441  \n",
       "3  These delectable butter pecan meltaways are th...    945  \n",
       "4  A cake the dessert epicure will die for!To the...    758  "
      ]
     },
     "execution_count": 13,
     "metadata": {},
     "output_type": "execute_result"
    }
   ],
   "source": [
    "#using Regular Expression to extract and create review column\n",
    "df[\"Review\"]=df['Rating'].str.extract('(\\d\\d\\d)',expand = True)\n",
    "df['Review']\n",
    "df.head()"
   ]
  },
  {
   "cell_type": "code",
   "execution_count": 19,
   "id": "48bdc3d5",
   "metadata": {},
   "outputs": [
    {
     "data": {
      "text/html": [
       "<div>\n",
       "<style scoped>\n",
       "    .dataframe tbody tr th:only-of-type {\n",
       "        vertical-align: middle;\n",
       "    }\n",
       "\n",
       "    .dataframe tbody tr th {\n",
       "        vertical-align: top;\n",
       "    }\n",
       "\n",
       "    .dataframe thead th {\n",
       "        text-align: right;\n",
       "    }\n",
       "</style>\n",
       "<table border=\"1\" class=\"dataframe\">\n",
       "  <thead>\n",
       "    <tr style=\"text-align: right;\">\n",
       "      <th></th>\n",
       "      <th>Sub Category</th>\n",
       "      <th>Price</th>\n",
       "      <th>Discount</th>\n",
       "      <th>Rating</th>\n",
       "      <th>Title</th>\n",
       "      <th>Currency</th>\n",
       "      <th>Feature</th>\n",
       "      <th>Product Description</th>\n",
       "      <th>Review</th>\n",
       "      <th>Ratings</th>\n",
       "    </tr>\n",
       "  </thead>\n",
       "  <tbody>\n",
       "    <tr>\n",
       "      <th>0</th>\n",
       "      <td>Bakery &amp; Desserts</td>\n",
       "      <td>$56.99</td>\n",
       "      <td>No Discount</td>\n",
       "      <td>Rated 4.3 out of 5 stars based on 265 reviews.</td>\n",
       "      <td>David’s Cookies Mile High Peanut Butter Cake, ...</td>\n",
       "      <td>$</td>\n",
       "      <td>\"10\"\" Peanut Butter Cake\\nCertified Kosher OU-...</td>\n",
       "      <td>A cake the dessert epicure will die for!Our To...</td>\n",
       "      <td>265</td>\n",
       "      <td>4.3</td>\n",
       "    </tr>\n",
       "    <tr>\n",
       "      <th>1</th>\n",
       "      <td>Bakery &amp; Desserts</td>\n",
       "      <td>$159.99</td>\n",
       "      <td>No Discount</td>\n",
       "      <td>Rated 5 out of 5 stars based on 1 reviews.</td>\n",
       "      <td>The Cake Bake Shop 8\" Round Carrot Cake (16-22...</td>\n",
       "      <td>$</td>\n",
       "      <td>Spiced Carrot Cake with Cream Cheese Frosting ...</td>\n",
       "      <td>Due to the perishable nature of this item, ord...</td>\n",
       "      <td>NaN</td>\n",
       "      <td>NaN</td>\n",
       "    </tr>\n",
       "    <tr>\n",
       "      <th>2</th>\n",
       "      <td>Bakery &amp; Desserts</td>\n",
       "      <td>$44.99</td>\n",
       "      <td>No Discount</td>\n",
       "      <td>Rated 4.1 out of 5 stars based on 441 reviews.</td>\n",
       "      <td>St Michel Madeleine, Classic French Sponge Cak...</td>\n",
       "      <td>$</td>\n",
       "      <td>100 count\\nIndividually wrapped\\nMade in and I...</td>\n",
       "      <td>Moist and buttery sponge cakes with the tradit...</td>\n",
       "      <td>441</td>\n",
       "      <td>4.1</td>\n",
       "    </tr>\n",
       "    <tr>\n",
       "      <th>3</th>\n",
       "      <td>Bakery &amp; Desserts</td>\n",
       "      <td>$39.99</td>\n",
       "      <td>No Discount</td>\n",
       "      <td>Rated 4.7 out of 5 stars based on 9459 reviews.</td>\n",
       "      <td>David's Cookies Butter Pecan Meltaways 32 oz, ...</td>\n",
       "      <td>$</td>\n",
       "      <td>Butter Pecan Meltaways\\n32 oz 2-Pack\\nNo Prese...</td>\n",
       "      <td>These delectable butter pecan meltaways are th...</td>\n",
       "      <td>945</td>\n",
       "      <td>4.7</td>\n",
       "    </tr>\n",
       "    <tr>\n",
       "      <th>4</th>\n",
       "      <td>Bakery &amp; Desserts</td>\n",
       "      <td>$59.99</td>\n",
       "      <td>No Discount</td>\n",
       "      <td>Rated 4.5 out of 5 stars based on 758 reviews.</td>\n",
       "      <td>David’s Cookies Premier Chocolate Cake, 7.2 lb...</td>\n",
       "      <td>$</td>\n",
       "      <td>\"10\" Four Layer Chocolate Cake\\nCertified Kosh...</td>\n",
       "      <td>A cake the dessert epicure will die for!To the...</td>\n",
       "      <td>758</td>\n",
       "      <td>4.5</td>\n",
       "    </tr>\n",
       "  </tbody>\n",
       "</table>\n",
       "</div>"
      ],
      "text/plain": [
       "        Sub Category     Price     Discount  \\\n",
       "0  Bakery & Desserts   $56.99   No Discount   \n",
       "1  Bakery & Desserts  $159.99   No Discount   \n",
       "2  Bakery & Desserts   $44.99   No Discount   \n",
       "3  Bakery & Desserts   $39.99   No Discount   \n",
       "4  Bakery & Desserts   $59.99   No Discount   \n",
       "\n",
       "                                            Rating  \\\n",
       "0   Rated 4.3 out of 5 stars based on 265 reviews.   \n",
       "1       Rated 5 out of 5 stars based on 1 reviews.   \n",
       "2   Rated 4.1 out of 5 stars based on 441 reviews.   \n",
       "3  Rated 4.7 out of 5 stars based on 9459 reviews.   \n",
       "4   Rated 4.5 out of 5 stars based on 758 reviews.   \n",
       "\n",
       "                                               Title Currency  \\\n",
       "0  David’s Cookies Mile High Peanut Butter Cake, ...        $   \n",
       "1  The Cake Bake Shop 8\" Round Carrot Cake (16-22...        $   \n",
       "2  St Michel Madeleine, Classic French Sponge Cak...        $   \n",
       "3  David's Cookies Butter Pecan Meltaways 32 oz, ...        $   \n",
       "4  David’s Cookies Premier Chocolate Cake, 7.2 lb...        $   \n",
       "\n",
       "                                             Feature  \\\n",
       "0  \"10\"\" Peanut Butter Cake\\nCertified Kosher OU-...   \n",
       "1  Spiced Carrot Cake with Cream Cheese Frosting ...   \n",
       "2  100 count\\nIndividually wrapped\\nMade in and I...   \n",
       "3  Butter Pecan Meltaways\\n32 oz 2-Pack\\nNo Prese...   \n",
       "4  \"10\" Four Layer Chocolate Cake\\nCertified Kosh...   \n",
       "\n",
       "                                 Product Description Review Ratings  \n",
       "0  A cake the dessert epicure will die for!Our To...    265     4.3  \n",
       "1  Due to the perishable nature of this item, ord...    NaN     NaN  \n",
       "2  Moist and buttery sponge cakes with the tradit...    441     4.1  \n",
       "3  These delectable butter pecan meltaways are th...    945     4.7  \n",
       "4  A cake the dessert epicure will die for!To the...    758     4.5  "
      ]
     },
     "execution_count": 19,
     "metadata": {},
     "output_type": "execute_result"
    }
   ],
   "source": [
    "#using Regular Expression to extract and create Ratings column\n",
    "df['Ratings']=df['Rating'].str.extract('(\\d.\\d)',expand = True)\n",
    "df['Ratings']\n",
    "df.head()"
   ]
  },
  {
   "cell_type": "code",
   "execution_count": 20,
   "id": "53aade15",
   "metadata": {},
   "outputs": [
    {
     "data": {
      "text/plain": [
       "Index(['Sub Category', 'Price', 'Discount', 'Rating', 'Title', 'Currency',\n",
       "       'Feature', 'Product Description', 'Review', 'Ratings'],\n",
       "      dtype='object')"
      ]
     },
     "execution_count": 20,
     "metadata": {},
     "output_type": "execute_result"
    }
   ],
   "source": [
    "#check columns\n",
    "df.columns"
   ]
  },
  {
   "cell_type": "code",
   "execution_count": 21,
   "id": "ef2cfc5d",
   "metadata": {},
   "outputs": [],
   "source": [
    "#change some columns names\n",
    "df.rename(columns={'Sub Category':'Sub_Category','product Description':'Product_Description','Title':'Brand_Name'},inplace=True)"
   ]
  },
  {
   "cell_type": "code",
   "execution_count": 22,
   "id": "477dd975",
   "metadata": {},
   "outputs": [
    {
     "data": {
      "text/plain": [
       "Index(['Sub_Category', 'Price', 'Discount', 'Rating', 'Brand_Name', 'Currency',\n",
       "       'Feature', 'Product Description', 'Review', 'Ratings'],\n",
       "      dtype='object')"
      ]
     },
     "execution_count": 22,
     "metadata": {},
     "output_type": "execute_result"
    }
   ],
   "source": [
    "#comfirm the change\n",
    "df.columns"
   ]
  },
  {
   "cell_type": "code",
   "execution_count": 23,
   "id": "1458583d",
   "metadata": {},
   "outputs": [
    {
     "name": "stdout",
     "output_type": "stream",
     "text": [
      "<class 'pandas.core.frame.DataFrame'>\n",
      "RangeIndex: 1757 entries, 0 to 1756\n",
      "Data columns (total 10 columns):\n",
      " #   Column               Non-Null Count  Dtype \n",
      "---  ------               --------------  ----- \n",
      " 0   Sub_Category         1757 non-null   object\n",
      " 1   Price                1754 non-null   object\n",
      " 2   Discount             1757 non-null   object\n",
      " 3   Rating               682 non-null    object\n",
      " 4   Brand_Name           1757 non-null   object\n",
      " 5   Currency             1752 non-null   object\n",
      " 6   Feature              1739 non-null   object\n",
      " 7   Product Description  1715 non-null   object\n",
      " 8   Review               391 non-null    object\n",
      " 9   Ratings              574 non-null    object\n",
      "dtypes: object(10)\n",
      "memory usage: 137.4+ KB\n"
     ]
    }
   ],
   "source": [
    "#check for information\n",
    "df.info()"
   ]
  },
  {
   "cell_type": "code",
   "execution_count": 24,
   "id": "3ea8d45f",
   "metadata": {},
   "outputs": [
    {
     "data": {
      "text/plain": [
       "(1757, 10)"
      ]
     },
     "execution_count": 24,
     "metadata": {},
     "output_type": "execute_result"
    }
   ],
   "source": [
    "#check for shape(rolls and columns)\n",
    "df.shape"
   ]
  },
  {
   "cell_type": "code",
   "execution_count": 25,
   "id": "3806b02f",
   "metadata": {},
   "outputs": [
    {
     "data": {
      "text/plain": [
       "Sub_Category             19\n",
       "Price                   184\n",
       "Discount                 42\n",
       "Rating                  483\n",
       "Brand_Name             1484\n",
       "Currency                  1\n",
       "Feature                1401\n",
       "Product Description    1435\n",
       "Review                  239\n",
       "Ratings                  38\n",
       "dtype: int64"
      ]
     },
     "execution_count": 25,
     "metadata": {},
     "output_type": "execute_result"
    }
   ],
   "source": [
    "#check for unique number\n",
    "df.nunique()"
   ]
  },
  {
   "cell_type": "code",
   "execution_count": 26,
   "id": "c9f1f037",
   "metadata": {},
   "outputs": [
    {
     "data": {
      "text/plain": [
       "Sub_Category              0\n",
       "Price                     3\n",
       "Discount                  0\n",
       "Rating                 1075\n",
       "Brand_Name                0\n",
       "Currency                  5\n",
       "Feature                  18\n",
       "Product Description      42\n",
       "Review                 1366\n",
       "Ratings                1183\n",
       "dtype: int64"
      ]
     },
     "execution_count": 26,
     "metadata": {},
     "output_type": "execute_result"
    }
   ],
   "source": [
    "#check for isnull value\n",
    "df.isnull().sum()"
   ]
  },
  {
   "cell_type": "code",
   "execution_count": 27,
   "id": "e2e1d934",
   "metadata": {},
   "outputs": [],
   "source": [
    "#drop isnull value\n",
    "df1=df.dropna()"
   ]
  },
  {
   "cell_type": "code",
   "execution_count": 28,
   "id": "2d3d812c",
   "metadata": {},
   "outputs": [
    {
     "data": {
      "text/plain": [
       "Sub_Category           0\n",
       "Price                  0\n",
       "Discount               0\n",
       "Rating                 0\n",
       "Brand_Name             0\n",
       "Currency               0\n",
       "Feature                0\n",
       "Product Description    0\n",
       "Review                 0\n",
       "Ratings                0\n",
       "dtype: int64"
      ]
     },
     "execution_count": 28,
     "metadata": {},
     "output_type": "execute_result"
    }
   ],
   "source": [
    "#comfirm change\n",
    "df1.isnull().sum()"
   ]
  },
  {
   "cell_type": "code",
   "execution_count": 29,
   "id": "e13b15ca",
   "metadata": {},
   "outputs": [
    {
     "data": {
      "text/plain": [
       "0"
      ]
     },
     "execution_count": 29,
     "metadata": {},
     "output_type": "execute_result"
    }
   ],
   "source": [
    "#check for duplicates\n",
    "df1.duplicated().sum()"
   ]
  },
  {
   "cell_type": "code",
   "execution_count": null,
   "id": "353d283f",
   "metadata": {},
   "outputs": [],
   "source": [
    "#save the new dataset\n",
    "df1.to_csv('Edited_GroceryDataset.csv',index=False)"
   ]
  }
 ],
 "metadata": {
  "kernelspec": {
   "display_name": "Python 3 (ipykernel)",
   "language": "python",
   "name": "python3"
  },
  "language_info": {
   "codemirror_mode": {
    "name": "ipython",
    "version": 3
   },
   "file_extension": ".py",
   "mimetype": "text/x-python",
   "name": "python",
   "nbconvert_exporter": "python",
   "pygments_lexer": "ipython3",
   "version": "3.11.5"
  }
 },
 "nbformat": 4,
 "nbformat_minor": 5
}
